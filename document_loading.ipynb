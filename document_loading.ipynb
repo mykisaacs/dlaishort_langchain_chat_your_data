{
 "cells": [
  {
   "cell_type": "markdown",
   "id": "8045c4f4-6685-4f56-9e97-2fad743018af",
   "metadata": {},
   "source": [
    "## Document Loading"
   ]
  },
  {
   "cell_type": "markdown",
   "id": "c62ab5ff-7bb0-485d-bbf6-75cf6175f033",
   "metadata": {},
   "source": [
    "### Retrieval augmented generation\n",
    "\n",
    "In Retrieval augmented generation(RAG), an LLM retrieves contextual documetns from an external dataset as part of its execution.\n",
    "\n",
    "This is useful if we want to ask questions about specific documents (e.g our PDFS, a set of videos, etc)"
   ]
  },
  {
   "cell_type": "code",
   "execution_count": null,
   "id": "cba7cd66-87ed-4344-abca-5428c006cda8",
   "metadata": {},
   "outputs": [],
   "source": [
    "import os\n",
    "import openai\n",
    "import sys\n",
    "sys.path.append('../..')\n",
    "\n",
    "# Load api key from environment variable\n",
    "openai.api_key = os.getenv('OPENAI_API_KEY')\n",
    "print(openai.api_key)\n"
   ]
  }
 ],
 "metadata": {
  "kernelspec": {
   "display_name": "Python 3 (ipykernel)",
   "language": "python",
   "name": "python3"
  },
  "language_info": {
   "codemirror_mode": {
    "name": "ipython",
    "version": 3
   },
   "file_extension": ".py",
   "mimetype": "text/x-python",
   "name": "python",
   "nbconvert_exporter": "python",
   "pygments_lexer": "ipython3",
   "version": "3.11.5"
  }
 },
 "nbformat": 4,
 "nbformat_minor": 5
}
